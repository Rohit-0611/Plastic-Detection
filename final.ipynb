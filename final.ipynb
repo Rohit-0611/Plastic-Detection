{
 "cells": [
  {
   "cell_type": "code",
   "execution_count": null,
   "metadata": {},
   "outputs": [],
   "source": [
    "from ultralytics import YOLO  "
   ]
  },
  {
   "cell_type": "code",
   "execution_count": null,
   "metadata": {},
   "outputs": [],
   "source": [
    "# Create a new YOLO model from scratch\n",
    "model = YOLO('yolov8n.yaml')\n",
    "\n",
    "# Load a pretrained YOLO model (recommended for training)\n",
    "model = YOLO('yolov8n.pt')"
   ]
  },
  {
   "cell_type": "markdown",
   "metadata": {},
   "source": [
    "Model Training "
   ]
  },
  {
   "cell_type": "code",
   "execution_count": null,
   "metadata": {},
   "outputs": [],
   "source": [
    "model.train(data='config.yaml', epochs=300, imgsz=416,device=[0]) #training the model with the yaml file with 150 epochs and image size of 640"
   ]
  },
  {
   "cell_type": "code",
   "execution_count": null,
   "metadata": {},
   "outputs": [],
   "source": [
    "# Load a model\n",
    "#since model training gets interrupted had to resume the model from it last pt file\n",
    "\n",
    "model = YOLO('./runs/detect/train17/weights/last.pt')  # load a partially trained model\n",
    "\n",
    "\n",
    "model.train(resume=True) # Resume training\n"
   ]
  },
  {
   "cell_type": "code",
   "execution_count": null,
   "metadata": {},
   "outputs": [],
   "source": [
    "model = YOLO('./runs/detect/train18/weights/best.pt')  # load a custom model\n",
    "\n",
    "# Validate the model\n",
    "\n",
    "metrics = model.val()  # no arguments needed, dataset and settings remembered\n",
    "metrics.box.map    # map50-95\n",
    "metrics.box.map50  # map50\n",
    "metrics.box.map75  # map75\n",
    "metrics.box.maps   # a list contains map50-95 of each category"
   ]
  },
  {
   "cell_type": "code",
   "execution_count": null,
   "metadata": {},
   "outputs": [],
   "source": [
    "import torch.onnx\n",
    "model=YOLO('./runs/detect/train7/weights/best.pt')\n",
    "model.export(format='onnx') # exporting the mode as onnx"
   ]
  },
  {
   "cell_type": "code",
   "execution_count": null,
   "metadata": {},
   "outputs": [],
   "source": [
    "model=YOLO('./runs/detect/train5/weights/best.pt') # using the best pt file for predicting the results as parameters\n",
    "results=model(['./Predict/DJI_0268.jpg'])\n",
    "\n",
    "\n",
    "for result in results:\n",
    "    boxes = result.boxes  # Boxes object for bbox outputs\n",
    "    masks = result.masks  # Masks object for segmentation masks outputs\n",
    "    keypoints = result.keypoints  # Keypoints object for pose outputs\n",
    "    probs = result.probs "
   ]
  },
  {
   "cell_type": "code",
   "execution_count": null,
   "metadata": {},
   "outputs": [],
   "source": [
    "model = YOLO('./runs/detect/train7/weights/best.pt')\n",
    "results = model('', save=True)  #finding the predicted plastics for individual images .\n",
    "                                \n",
    "                                \n",
    "#place the path of the image in double quotes and hence results would be stored"
   ]
  },
  {
   "cell_type": "code",
   "execution_count": null,
   "metadata": {},
   "outputs": [],
   "source": []
  },
  {
   "cell_type": "markdown",
   "metadata": {},
   "source": [
    "Finding OUTPUT Images for predicted values"
   ]
  },
  {
   "cell_type": "code",
   "execution_count": null,
   "metadata": {},
   "outputs": [],
   "source": [
    "image_urls = [                      #looping the images just by copying pasting the image-paths and outputs for the no of images would be stored in same folder\n",
    "    './Predict/DJI_0023.jpg',\n",
    "    './Predict/DJI_0080.jpg',\n",
    "    './Predict/DJI_0088.jpg',\n",
    "    './Predict/DJI_0185.jpg',\n",
    "    './Predict/DJI_0205.jpg',\n",
    "    './Predict/DJI_0255.jpg',\n",
    "    './Predict/DJI_0268.jpg',\n",
    "    './Predict/DJI_0416.jpg',\n",
    "    './Predict/DJI_0487.jpg',\n",
    "    './Predict/DJI_0502.jpg',\n",
    "]\n",
    "for url in image_urls:\n",
    "    results = model(url, save=True)"
   ]
  },
  {
   "cell_type": "markdown",
   "metadata": {},
   "source": [
    "Getting the GEO-Location URL"
   ]
  },
  {
   "cell_type": "code",
   "execution_count": null,
   "metadata": {},
   "outputs": [],
   "source": [
    "from PIL import Image\n",
    "from PIL.ExifTags import TAGS\n",
    "\n",
    "# Function to format the coordinates to degrees\n",
    "def convert_to_degrees(value):\n",
    "    \"\"\"\n",
    "    Helper function to convert the GPS coordinates to decimal degrees format.\n",
    "    \"\"\"\n",
    "  \n",
    "    d = value[0]\n",
    "    m = value[1]\n",
    "    s = value[2]\n",
    "\n",
    "    return d + (m / 60.0) + (s / 3600.0)\n",
    "\n",
    "#Function to extract geotag from image metadata\n",
    "def get_geotag_label(image_path):\n",
    "    # Open the image file\n",
    "    image = Image.open(image_path)\n",
    "\n",
    "    # Check if the image has EXIF data\n",
    "    if hasattr(image, '_getexif'):\n",
    "        exif_data = image._getexif()\n",
    "\n",
    "        # Iterate over all EXIF tags\n",
    "        for tag, value in exif_data.items():\n",
    "            tag_name = TAGS.get(tag, tag)\n",
    "\n",
    "            # Check if the tag corresponds to geotagging\n",
    "            if tag_name == 'GPSInfo':\n",
    "                # Extract latitude and longitude information\n",
    "                lat = convert_to_degrees(value[2])\n",
    "                lon = convert_to_degrees(value[4])\n",
    "                lat_ref = value[1]\n",
    "                lon_ref = value[3]\n",
    "\n",
    "                # Determine the hemisphere (N/S or E/W)\n",
    "                if lat_ref == 'S':\n",
    "                    lat = -lat\n",
    "                if lon_ref == 'W':\n",
    "                    lon = -lon\n",
    "\n",
    "                # Return the geotagged label\n",
    "                return f\"Latitude: {lat}, Longitude: {lon}\"\n",
    "\n",
    "    # Return None if no geotag label found\n",
    "    return None\n",
    "\n",
    "\n",
    "# this function splits the string containing longitude and latitude into two variables latitude and longitude\n",
    "def split_geotag_label(geotag_label):\n",
    "    # Remove the prefix \"Latitude: \" and extract the latitude value\n",
    "    latitude_start_index = geotag_label.find(\":\") + 1\n",
    "    latitude_end_index = geotag_label.find(\",\") \n",
    "    latitude = geotag_label[latitude_start_index:latitude_end_index].strip()\n",
    "\n",
    "    # Remove the prefix \"Longitude: \" and extract the longitude value\n",
    "    longitude_start_index = geotag_label.find(\"Longitude:\") + len(\"Longitude:\") + 1\n",
    "    longitude = geotag_label[longitude_start_index:].strip()\n",
    "\n",
    "    return latitude, longitude\n",
    "\n",
    "\n",
    "\n",
    "\n",
    "def get_google_maps_link(latitude, longitude):\n",
    "    link = f\"https://www.google.com/maps/search/?api=1&query={latitude},{longitude}\"\n",
    "    return link\n"
   ]
  },
  {
   "cell_type": "markdown",
   "metadata": {},
   "source": [
    "Find Geo-Location URL for single image "
   ]
  },
  {
   "cell_type": "code",
   "execution_count": null,
   "metadata": {},
   "outputs": [],
   "source": [
    "img_path=''   # copy past the complete image path into the single quotes\n",
    "\n",
    "g_label=get_geotag_label(img_path)\n",
    "latitude, longitude = split_geotag_label(g_label)\n",
    "url=get_google_maps_link(latitude, longitude)\n",
    "print(\"Image\"+\".jpg URL: \", url) # this line would print the geo location url of the picture"
   ]
  },
  {
   "cell_type": "markdown",
   "metadata": {},
   "source": [
    "Finding Geo-Location url for Predict Dataset"
   ]
  },
  {
   "cell_type": "code",
   "execution_count": null,
   "metadata": {},
   "outputs": [],
   "source": [
    "for i in image_urls:\n",
    "    img_path=str(i)   # the image path url is taken from the above loop (used for find the predict values) and sending it as input and hence \n",
    "                      #  the final line gives us the URL link \n",
    "    \n",
    "    g_label=get_geotag_label(img_path)\n",
    "    latitude, longitude = split_geotag_label(g_label)\n",
    "    url=get_google_maps_link(latitude, longitude)\n",
    "    print(\"Image\",str(i)+\": \", url)  "
   ]
  },
  {
   "cell_type": "code",
   "execution_count": null,
   "metadata": {},
   "outputs": [],
   "source": []
  }
 ],
 "metadata": {
  "kernelspec": {
   "display_name": "Python 3",
   "language": "python",
   "name": "python3"
  },
  "language_info": {
   "codemirror_mode": {
    "name": "ipython",
    "version": 3
   },
   "file_extension": ".py",
   "mimetype": "text/x-python",
   "name": "python",
   "nbconvert_exporter": "python",
   "pygments_lexer": "ipython3",
   "version": "3.11.4"
  },
  "orig_nbformat": 4
 },
 "nbformat": 4,
 "nbformat_minor": 2
}
